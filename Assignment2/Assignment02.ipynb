{
 "cells": [
  {
   "cell_type": "markdown",
   "id": "d5fbd950-b4fb-4399-b32e-66b6b827f79c",
   "metadata": {},
   "source": [
    "# Assignment 02 - make a Python notebook to analyze CORGIS data\n",
    "## Tyler Nguyen (#505548431)"
   ]
  },
  {
   "cell_type": "markdown",
   "id": "70dddfc7-0a18-49e1-b067-fb51e9ef6f0c",
   "metadata": {},
   "source": [
    "### Description\n",
    "Billionare Data Set:\n",
    "https://corgis-edu.github.io/corgis/csv/billionaires/\n",
    "\n",
    "Detailed history of each billionares from 1996-2014. Includes information about company, method to wealth. Each entry is a row."
   ]
  },
  {
   "cell_type": "code",
   "execution_count": 11,
   "id": "a4d49bb3-a30a-4bd5-8713-15c29dd61e2e",
   "metadata": {},
   "outputs": [],
   "source": [
    "import pandas as pd\n",
    "# commands to read the datafile\n",
    "df = pd.read_csv(\"billionaires.csv\")"
   ]
  },
  {
   "cell_type": "code",
   "execution_count": 12,
   "id": "1930f5d1-72f8-4f78-9bf5-9366d19622fc",
   "metadata": {},
   "outputs": [
    {
     "data": {
      "text/html": [
       "<div>\n",
       "<style scoped>\n",
       "    .dataframe tbody tr th:only-of-type {\n",
       "        vertical-align: middle;\n",
       "    }\n",
       "\n",
       "    .dataframe tbody tr th {\n",
       "        vertical-align: top;\n",
       "    }\n",
       "\n",
       "    .dataframe thead th {\n",
       "        text-align: right;\n",
       "    }\n",
       "</style>\n",
       "<table border=\"1\" class=\"dataframe\">\n",
       "  <thead>\n",
       "    <tr style=\"text-align: right;\">\n",
       "      <th></th>\n",
       "      <th>name</th>\n",
       "      <th>rank</th>\n",
       "      <th>year</th>\n",
       "      <th>company.founded</th>\n",
       "      <th>company.name</th>\n",
       "      <th>company.relationship</th>\n",
       "      <th>company.sector</th>\n",
       "      <th>company.type</th>\n",
       "      <th>demographics.age</th>\n",
       "      <th>demographics.gender</th>\n",
       "      <th>...</th>\n",
       "      <th>location.gdp</th>\n",
       "      <th>location.region</th>\n",
       "      <th>wealth.type</th>\n",
       "      <th>wealth.worth in billions</th>\n",
       "      <th>wealth.how.category</th>\n",
       "      <th>wealth.how.from emerging</th>\n",
       "      <th>wealth.how.industry</th>\n",
       "      <th>wealth.how.inherited</th>\n",
       "      <th>wealth.how.was founder</th>\n",
       "      <th>wealth.how.was political</th>\n",
       "    </tr>\n",
       "  </thead>\n",
       "  <tbody>\n",
       "    <tr>\n",
       "      <th>0</th>\n",
       "      <td>Bill Gates</td>\n",
       "      <td>1</td>\n",
       "      <td>1996</td>\n",
       "      <td>1975</td>\n",
       "      <td>Microsoft</td>\n",
       "      <td>founder</td>\n",
       "      <td>Software</td>\n",
       "      <td>new</td>\n",
       "      <td>40</td>\n",
       "      <td>male</td>\n",
       "      <td>...</td>\n",
       "      <td>8.100000e+12</td>\n",
       "      <td>North America</td>\n",
       "      <td>founder non-finance</td>\n",
       "      <td>18.5</td>\n",
       "      <td>New Sectors</td>\n",
       "      <td>True</td>\n",
       "      <td>Technology-Computer</td>\n",
       "      <td>not inherited</td>\n",
       "      <td>True</td>\n",
       "      <td>True</td>\n",
       "    </tr>\n",
       "    <tr>\n",
       "      <th>1</th>\n",
       "      <td>Bill Gates</td>\n",
       "      <td>1</td>\n",
       "      <td>2001</td>\n",
       "      <td>1975</td>\n",
       "      <td>Microsoft</td>\n",
       "      <td>founder</td>\n",
       "      <td>Software</td>\n",
       "      <td>new</td>\n",
       "      <td>45</td>\n",
       "      <td>male</td>\n",
       "      <td>...</td>\n",
       "      <td>1.060000e+13</td>\n",
       "      <td>North America</td>\n",
       "      <td>founder non-finance</td>\n",
       "      <td>58.7</td>\n",
       "      <td>New Sectors</td>\n",
       "      <td>True</td>\n",
       "      <td>Technology-Computer</td>\n",
       "      <td>not inherited</td>\n",
       "      <td>True</td>\n",
       "      <td>True</td>\n",
       "    </tr>\n",
       "    <tr>\n",
       "      <th>2</th>\n",
       "      <td>Bill Gates</td>\n",
       "      <td>1</td>\n",
       "      <td>2014</td>\n",
       "      <td>1975</td>\n",
       "      <td>Microsoft</td>\n",
       "      <td>founder</td>\n",
       "      <td>Software</td>\n",
       "      <td>new</td>\n",
       "      <td>58</td>\n",
       "      <td>male</td>\n",
       "      <td>...</td>\n",
       "      <td>0.000000e+00</td>\n",
       "      <td>North America</td>\n",
       "      <td>founder non-finance</td>\n",
       "      <td>76.0</td>\n",
       "      <td>New Sectors</td>\n",
       "      <td>True</td>\n",
       "      <td>Technology-Computer</td>\n",
       "      <td>not inherited</td>\n",
       "      <td>True</td>\n",
       "      <td>True</td>\n",
       "    </tr>\n",
       "    <tr>\n",
       "      <th>3</th>\n",
       "      <td>Warren Buffett</td>\n",
       "      <td>2</td>\n",
       "      <td>1996</td>\n",
       "      <td>1962</td>\n",
       "      <td>Berkshire Hathaway</td>\n",
       "      <td>founder</td>\n",
       "      <td>Finance</td>\n",
       "      <td>new</td>\n",
       "      <td>65</td>\n",
       "      <td>male</td>\n",
       "      <td>...</td>\n",
       "      <td>8.100000e+12</td>\n",
       "      <td>North America</td>\n",
       "      <td>founder non-finance</td>\n",
       "      <td>15.0</td>\n",
       "      <td>Traded Sectors</td>\n",
       "      <td>True</td>\n",
       "      <td>Consumer</td>\n",
       "      <td>not inherited</td>\n",
       "      <td>True</td>\n",
       "      <td>True</td>\n",
       "    </tr>\n",
       "    <tr>\n",
       "      <th>4</th>\n",
       "      <td>Warren Buffett</td>\n",
       "      <td>2</td>\n",
       "      <td>2001</td>\n",
       "      <td>1962</td>\n",
       "      <td>Berkshire Hathaway</td>\n",
       "      <td>founder</td>\n",
       "      <td>Finance</td>\n",
       "      <td>new</td>\n",
       "      <td>70</td>\n",
       "      <td>male</td>\n",
       "      <td>...</td>\n",
       "      <td>1.060000e+13</td>\n",
       "      <td>North America</td>\n",
       "      <td>founder non-finance</td>\n",
       "      <td>32.3</td>\n",
       "      <td>Traded Sectors</td>\n",
       "      <td>True</td>\n",
       "      <td>Consumer</td>\n",
       "      <td>not inherited</td>\n",
       "      <td>True</td>\n",
       "      <td>True</td>\n",
       "    </tr>\n",
       "  </tbody>\n",
       "</table>\n",
       "<p>5 rows × 22 columns</p>\n",
       "</div>"
      ],
      "text/plain": [
       "             name  rank  year  company.founded        company.name  \\\n",
       "0      Bill Gates     1  1996             1975           Microsoft   \n",
       "1      Bill Gates     1  2001             1975           Microsoft   \n",
       "2      Bill Gates     1  2014             1975           Microsoft   \n",
       "3  Warren Buffett     2  1996             1962  Berkshire Hathaway   \n",
       "4  Warren Buffett     2  2001             1962  Berkshire Hathaway   \n",
       "\n",
       "  company.relationship company.sector company.type  demographics.age  \\\n",
       "0              founder       Software          new                40   \n",
       "1              founder       Software          new                45   \n",
       "2              founder       Software          new                58   \n",
       "3              founder        Finance          new                65   \n",
       "4              founder        Finance          new                70   \n",
       "\n",
       "  demographics.gender  ...  location.gdp location.region          wealth.type  \\\n",
       "0                male  ...  8.100000e+12   North America  founder non-finance   \n",
       "1                male  ...  1.060000e+13   North America  founder non-finance   \n",
       "2                male  ...  0.000000e+00   North America  founder non-finance   \n",
       "3                male  ...  8.100000e+12   North America  founder non-finance   \n",
       "4                male  ...  1.060000e+13   North America  founder non-finance   \n",
       "\n",
       "  wealth.worth in billions wealth.how.category  wealth.how.from emerging  \\\n",
       "0                     18.5         New Sectors                      True   \n",
       "1                     58.7         New Sectors                      True   \n",
       "2                     76.0         New Sectors                      True   \n",
       "3                     15.0      Traded Sectors                      True   \n",
       "4                     32.3      Traded Sectors                      True   \n",
       "\n",
       "   wealth.how.industry  wealth.how.inherited wealth.how.was founder  \\\n",
       "0  Technology-Computer         not inherited                   True   \n",
       "1  Technology-Computer         not inherited                   True   \n",
       "2  Technology-Computer         not inherited                   True   \n",
       "3             Consumer         not inherited                   True   \n",
       "4             Consumer         not inherited                   True   \n",
       "\n",
       "  wealth.how.was political  \n",
       "0                     True  \n",
       "1                     True  \n",
       "2                     True  \n",
       "3                     True  \n",
       "4                     True  \n",
       "\n",
       "[5 rows x 22 columns]"
      ]
     },
     "execution_count": 12,
     "metadata": {},
     "output_type": "execute_result"
    }
   ],
   "source": [
    "# print(df)\n",
    "df.head()"
   ]
  },
  {
   "cell_type": "code",
   "execution_count": 13,
   "id": "c6961903-8c07-46f2-bed3-c6962bc81af1",
   "metadata": {},
   "outputs": [
    {
     "name": "stdout",
     "output_type": "stream",
     "text": [
      "Top Billionaries combine for 9232.500000000038 billion dollars.\n",
      "For each person in the US they could have 28019.726858877206 of the total billionares wealth.\n"
     ]
    }
   ],
   "source": [
    "# mathematical operation\n",
    "total_wealth = sum(df[\"wealth.worth in billions\"])\n",
    "print(\"Top Billionaries combine for\", total_wealth, \"billion dollars.\")\n",
    "# prints total wealth of list billionares\n",
    "usa_pop = 329500000\n",
    "print(\"For each person in the US they could have\", (total_wealth * 1000000000) / usa_pop, \"of the total billionares wealth.\")\n",
    "# prints the total wealth of billionares if shared per person in the US (accounts for billion calculation)"
   ]
  },
  {
   "cell_type": "code",
   "execution_count": 14,
   "id": "e474bfb4-98d4-44f6-b99d-fe1ad7c9030b",
   "metadata": {},
   "outputs": [
    {
     "name": "stdout",
     "output_type": "stream",
     "text": [
      "None has wealth that was without politics.\n"
     ]
    }
   ],
   "source": [
    "# conditional expression\n",
    "if df[\"wealth.how.was political\"].any() == False:\n",
    "    print(\"There are some that achieved wealth without politics.\")\n",
    "else:\n",
    "    print(\"None has wealth that was without politics.\")\n",
    "# prints if any of them achieved wealth with/without politics"
   ]
  },
  {
   "cell_type": "code",
   "execution_count": 15,
   "id": "63836342-fe95-4f14-af24-3e74e887f178",
   "metadata": {},
   "outputs": [
    {
     "name": "stdout",
     "output_type": "stream",
     "text": [
      "40\n",
      "45\n",
      "58\n",
      "65\n",
      "70\n",
      "74\n",
      "0\n",
      "48\n",
      "77\n"
     ]
    }
   ],
   "source": [
    "# for loop\n",
    "for age in df[\"demographics.age\"][0:9]:\n",
    "    print(age) \n",
    "    # prints each age of top 10 people\n"
   ]
  },
  {
   "cell_type": "code",
   "execution_count": 16,
   "id": "e3c8a4ca-e497-4aa0-b8cc-5a5230b71ad5",
   "metadata": {},
   "outputs": [
    {
     "name": "stdout",
     "output_type": "stream",
     "text": [
      "Ratio of trues in the col 'wealth.how.from emerging': 1.0\n"
     ]
    }
   ],
   "source": [
    "# function (both a new function definition and an execution of that function)\n",
    "def ratioOfCol(col):\n",
    "    # determines the ratio of true of a booleon col\n",
    "    return(sum(col) / len(col))\n",
    "print(\"Ratio of trues in the col 'wealth.how.from emerging':\", ratioOfCol(df[\"wealth.how.from emerging\"]))\n",
    "# prints ratio of trues in the col"
   ]
  },
  {
   "cell_type": "code",
   "execution_count": 17,
   "id": "3d325597-8e2a-4cae-88aa-63703745452f",
   "metadata": {},
   "outputs": [],
   "source": [
    "# module import and use of the module somewhere in the code\n",
    "# see import pandas df"
   ]
  },
  {
   "cell_type": "code",
   "execution_count": 29,
   "id": "e3e19a8f-918d-441c-8b60-d50f83185b8d",
   "metadata": {},
   "outputs": [
    {
     "data": {
      "text/plain": [
       "<AxesSubplot:title={'center':'Ages of Billionares Visualized'}, ylabel='Frequency'>"
      ]
     },
     "execution_count": 29,
     "metadata": {},
     "output_type": "execute_result"
    },
    {
     "data": {
      "image/png": "[encoded data removed]",
      "text/plain": [
       "<Figure size 432x288 with 1 Axes>"
      ]
     },
     "metadata": {
      "needs_background": "light"
     },
     "output_type": "display_data"
    }
   ],
   "source": [
    "df[\"demographics.age\"].plot.hist(bins = 10, alpha = 0.5, title = \"Ages of Billionares Visualized\")\n",
    "# Plots histogram of ages of billionares (0, freq is from not reported or incorrect)"
   ]
  }
 ],
 "metadata": {
  "kernelspec": {
   "display_name": "Python 3 (ipykernel)",
   "language": "python",
   "name": "python3"
  },
  "language_info": {
   "codemirror_mode": {
    "name": "ipython",
    "version": 3
   },
   "file_extension": ".py",
   "mimetype": "text/x-python",
   "name": "python",
   "nbconvert_exporter": "python",
   "pygments_lexer": "ipython3",
   "version": "3.9.6"
  }
 },
 "nbformat": 4,
 "nbformat_minor": 5
}
