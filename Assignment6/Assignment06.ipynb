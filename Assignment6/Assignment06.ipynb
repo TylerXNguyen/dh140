{
 "cells": [
  {
   "cell_type": "markdown",
   "id": "79242ca1-9c76-427d-8344-fa9fa12660c3",
   "metadata": {},
   "source": [
    "# Assignment 06 - Text Analysis"
   ]
  },
  {
   "cell_type": "markdown",
   "id": "be06eb30-1e97-41ed-a866-e949890c20c9",
   "metadata": {},
   "source": [
    "### Shakespeare word frequency"
   ]
  },
  {
   "cell_type": "code",
   "execution_count": 9,
   "id": "8c65e7d5-00ee-4d63-b122-271cc6b0efb5",
   "metadata": {},
   "outputs": [],
   "source": [
    "# reads in shakespeare macbeth play\n",
    "file = open(\"Macbeth.txt\")\n",
    "text = file.read()\n",
    "file.close()"
   ]
  },
  {
   "cell_type": "code",
   "execution_count": 7,
   "id": "4b84aa4f-8326-4d17-909f-a9148aa71c04",
   "metadata": {},
   "outputs": [],
   "source": [
    "import nltk\n",
    "from nltk.tokenize import word_tokenize, sent_tokenize"
   ]
  },
  {
   "cell_type": "code",
   "execution_count": 25,
   "id": "c56a6340-f612-412d-b91c-39a1c119c20a",
   "metadata": {},
   "outputs": [],
   "source": [
    "# tokenization\n",
    "sent = sent_tokenize(text)\n",
    "words = []\n",
    "for s in sent:\n",
    "    for w in word_tokenize(s):\n",
    "        words.append(w)"
   ]
  },
  {
   "cell_type": "code",
   "execution_count": 40,
   "id": "7567f10d-d29f-4a2e-9274-0dd5cd843e4c",
   "metadata": {},
   "outputs": [
    {
     "name": "stderr",
     "output_type": "stream",
     "text": [
      "[nltk_data] Downloading package stopwords to /home/jovyan/nltk_data...\n",
      "[nltk_data]   Unzipping corpora/stopwords.zip.\n"
     ]
    },
    {
     "data": {
      "text/plain": [
       "True"
      ]
     },
     "execution_count": 40,
     "metadata": {},
     "output_type": "execute_result"
    }
   ],
   "source": [
    "from nltk.corpus import stopwords\n",
    "from string import punctuation\n",
    "nltk.download('stopwords')"
   ]
  },
  {
   "cell_type": "code",
   "execution_count": 71,
   "id": "2ceffc10-b69c-4931-8e77-cd67dee5f3ac",
   "metadata": {},
   "outputs": [],
   "source": [
    "# removing stopwords\n",
    "myStopWords = list(punctuation) + stopwords.words('english') + list('’')\n",
    "wordsNoStopComp = [w for w in words if w not in myStopWords]"
   ]
  },
  {
   "cell_type": "code",
   "execution_count": 85,
   "id": "053dc21c-7fb4-4a6c-9068-b0229b7a5344",
   "metadata": {},
   "outputs": [],
   "source": [
    "import collections\n",
    "from collections import Counter"
   ]
  },
  {
   "cell_type": "code",
   "execution_count": 113,
   "id": "6c86cca6-c546-4fd5-93db-4bd2b45adc88",
   "metadata": {},
   "outputs": [
    {
     "name": "stdout",
     "output_type": "stream",
     "text": [
      "[('I', 348), ('MACBETH', 209), ('And', 154), ('The', 147), ('That', 92), ('MACDUFF', 80), ('LADY', 80), ('Macbeth', 79), ('To', 74), ('Enter', 71), ('thou', 66), ('What', 65), ('thee', 60), ('A', 55), ('us', 55), ('But', 53), ('upon', 52), ('WITCH', 51), ('yet', 48), ('shall', 47)]\n"
     ]
    }
   ],
   "source": [
    "# top 20 most frequent words in Macbeth\n",
    "print(collections.Counter(wordsNoStopComp).most_common(20))"
   ]
  },
  {
   "cell_type": "markdown",
   "id": "950688b8-ac92-4d7b-a12c-20487e5d1c1d",
   "metadata": {},
   "source": [
    "The top 20 words in Macbeth don't provide an accurate sense of the play since the top 20 words used in play storytelling can not accurately depict the story with such a small amount of words. For example, there are words such as \"I\" or \"a\" that have no significant meaning to what the play can be about. We do see some insightful words such as names or \"witch\" that may hint at things in the play."
   ]
  },
  {
   "cell_type": "markdown",
   "id": "fe4b9790-ca53-4b1f-9d99-b19282d20bd0",
   "metadata": {},
   "source": [
    "### Yelp sentiments"
   ]
  },
  {
   "cell_type": "code",
   "execution_count": 123,
   "id": "5cc2822c-07df-4cb7-a522-a9f9dcda5b6c",
   "metadata": {},
   "outputs": [
    {
     "name": "stderr",
     "output_type": "stream",
     "text": [
      "[nltk_data] Downloading package vader_lexicon to\n",
      "[nltk_data]     /home/jovyan/nltk_data...\n"
     ]
    },
    {
     "data": {
      "text/plain": [
       "True"
      ]
     },
     "execution_count": 123,
     "metadata": {},
     "output_type": "execute_result"
    }
   ],
   "source": [
    "from nltk.sentiment import vader\n",
    "nltk.download('vader_lexicon')"
   ]
  },
  {
   "cell_type": "code",
   "execution_count": 118,
   "id": "f5d5a543-20b6-4fba-b991-c5cc18e21fa2",
   "metadata": {},
   "outputs": [],
   "source": [
    "# Importing 15 Marugame Udon Reviews and stars\n",
    "review1 = '''\n",
    "I am from OC, and before they opened one in costa mesa, I would come here an unhealthy amount of times. Like everytime I planned a trip to LA, I would make sure I came to Marugame Udon for some delicious beef udon and tempura. I dont know what else to say, but they have the best udon I have ever tried. The egg is literally to die for and the way they crack it in your bowl and you see it just floating on top of your bowl is crazy to me. They put a good amount of meat in your bowl and I just inhale my meal everytime i eat here. You have to add green onions, tempura, and chilli powder to your udon because those toppings are what makes it more flavorful and savory.\n",
    "For parking, you can park in the structure, it is super cheap if you only come to eat for a bit, I usually pay around $2 or something, so its not one of those super expensive LA parking structures. They have more locations now so it is not just the one in Sawtelle. I am so glad there's one in OC and I dont have to drive an hour to get some delicious udon!\n",
    "'''\n",
    "review1_stars = 5\n",
    "\n",
    "review2 = '''\n",
    "Throughout my years of college, Marugame is probably the most frequented restaurant, not only on Sawtelle but just generally. This is because it's super convenient. Line moves fast, food comes quick, and is always a solid meal. In my many visits to Marugame, I usually get the Nikutama and I don't really get tired of it. I'm also always a bit worried about trying something new because I've never liked other udons as much as the Nikutama.\n",
    "This time, I tried the curry nikutama. I am not sure why, but the flavor of the curry nikutama was just not what I was expecting. While it wasn't bad, I don't think I would get it again. Their menu is also not very vast, which can be a plus or not depending on what you like.\n",
    "I wish I could give it 5 stars, but I have noticed the pricing increase a lot recently, which is kinda disappointing since we often go to Marugame expecting a cheaper meal. I paid ~$17 for the curry nikutama + a potato croquette.\n",
    "'''\n",
    "review2_stars = 4\n",
    "\n",
    "review3 = '''\n",
    "My favorite place to get udon! And maybe even my favorite place to eat at sawtelle. It's usually pretty quick. I love the vibe in the restaurant and how it's cafeteria style. You order your udon and go down picking whatever tempura you want. My favorites are the curry ones, both with and without the beef, although even the non-beef one has some beef in it. I also love the tonkotsu and the plain one too. Depends on the mood. Their chicken karaage is actually super good too!\n",
    "I love how thick the noodles are and their texture, which is more al dente, which i really appreciate!\n",
    "My fave\n",
    "'''\n",
    "review3_stars = 5\n",
    "\n",
    "review4 = '''\n",
    "This place was great! I came in on a Sunday at 4:30pm and there was no line and plenty of seating. (When we left around 5:30 the line was out the door).  The way it was set up was similar to a cafeteria line. I ordered the tonkatsu with all the fixings ~green onion and tempura flakes~ along with some tempura mushrooms and shrimp skewers. I also got the ginger berry oolong tea what they make in house.\n",
    "I liked how they had a little bar area for chili, ginger, tempura sauce and water as well as a self serve to-go box/bag area. Since there wasn't any table service, you sat yourselves and brought your finished meals to the cleaning area as well. The bathrooms were also very clean.\n",
    "Moving onto the food, the noodles were very chewy and cooked perfectly. I enjoyed the broth from the tonkatsu since it was really rich to where the noodles soaked up all that flavor. I especially liked the mushroom tempura since they were very juicy. One thing I wish they had was soy sauce since I like my tempura with soy sauce since it has a stronger flavor than the tempura sauce offered, but that is just a personal preference. Overall this place was very good, probably the next udon place I've been to yet.\n",
    "'''\n",
    "review4_stars = 5\n",
    "\n",
    "review5 = '''\n",
    "Noodles... IYKYK... noodles are my THING.  And these were some of the very best.  I hate to even compare to my local Udon spot, but this place killed it.  The noodles were incredibly fresh (tender with the perfect bite!)  and the broth was on point. The regular Kake Udon was the best example of traditional Udon Ive had in a minute! I got the BK udon and added a spring egg- just fantastic.   They constantly making tempura and so the tempura flakes are fresh and really crispy. I truly almost went  back for lunch today- twice in 2 days?? THATS HOW GOOD IT WAS.\n",
    "\n",
    "Currently requiring vaxx proof for dine in, and offering togo containers for people without.  Cafeteria style ordering.    Really have all the utensils, lids, containers readily accessible- so nice so we could take our leftovers back to the hotel.\n",
    "'''\n",
    "review5_stars = 5\n",
    "\n",
    "review6 = '''\n",
    "We ordered the Tonkatsu and the Curry Nikutama. Both great flavors, fresh handmade udon noodles. Loved the Tonkatsu broth!!! My only complaint is that the soft boiled egg in the Tonkatsu bowl was hard boiled. (I'm used to soft boiled eggs but maybe it's supposed to be hard boiled?) There wasn't a long line like the ones in Honolulu. We got in very quickly.\n",
    "'''\n",
    "review6_stars = 4\n",
    "\n",
    "review7 = '''\n",
    "Come here for comforting, authentic udon and more deep fried sides you can shake your chopsticks at. After one bad experience the noodles are always chewy and boiled the right amount. It's hard to choose which bowl to get but a L is just $1 more than the Regular size.\n",
    "\n",
    "Love the curry udon although the curry is thick like gravy. Even if there's a long line out the door, the wait isn't that long. It's always clean and they have outdoor seating. One request though, lower tables as the booth like seats are too low for me.\n",
    "\n",
    "For Covid precautions they ask you while ordering if you want chopped scallions and fried batter bits but the toppings station still has water, soy sauce and hot sauce.\n",
    "'''\n",
    "review7_stars = 4\n",
    "\n",
    "review8 = '''\n",
    "Overall a great spot for a warm, low-key meal! My party of 2 came in around 4 PM on a Saturday and experienced no wait time. In the cafeteria-style line, you first order your soup and they assemble it in front of you (with green onions + tempura crunch optional). Once it's done, you take it on your tray and move over to the tempura stations where you use tongs to place individual pieces onto your tray. There are lots of vegetable options (sweet potato, mushroom, pumpkin, etc.) in addition to potato croquettes, shrimp tempura, and tamago tempura. From there, you move to the cashier and select your dipping sauces (tempura, katsu, chili, grated ginger).\n",
    "\n",
    "TONKOTSU UDON:\n",
    "Seriously. So. Delicious. I was a bit skeptical about their udon since I tried the Kitsune Udon previously, and was unimpressed at the lack of flavor. The Tonkotsu Udon, however, blew me away!! The flavorful broth, bouncy noodles, and chashu + miso ground pork worked really well together. The texture is made even better with tempura crunch!\n",
    "\n",
    "SELF-SERVE TEMPURA:\n",
    "I got sweet potato, mushroom (3 per skewer), and Japanese pumpkin. All of these were yummy, with the pumpkin being my favorite! By the time I got there, they had probably been sitting out for a while - so it wasn't as crunchy as I hoped. Still, a great side to the udon - just be careful of getting too much!\n",
    "\n",
    "In total, a good experience. Will be a go-to spot whenever I'm in the area.\n",
    "'''\n",
    "review8_stars = 4\n",
    "\n",
    "review9 = '''\n",
    "I've past by this place so many times and saw the long lines. I finally decided to try this place out. It turns out that its not a restuarant, but kind of like a convenience store style shop. I got a tonkotsu ramen.\n",
    "\n",
    "The broth was very flavorful and the udon noodles were chewy and springy. I loved the addition of the tempura flakes, spicy meat, and green onions. They gave the broth a nice kick and the flakes added texture. The slice of meat was soft and slightly fatty, which is how I like it. My only complaint was that the egg was overly cooked.\n",
    "\n",
    "Overall, the food was delicious and not too expensive. Seating was a bit difficult since the place is generally packed.\n",
    "'''\n",
    "review9_stars = 5\n",
    "\n",
    "review10 = '''\n",
    "I don't have udon very often... but Marguame is one of the best I've had. The food was definitely worth all 5 stars, but that line... There's gotta be a faster or more efficient way to tame that line. Although we did not wait over an hour, I've heard horror stories of such waits. I mean the food is worth checking out, but the long lines may deter people from trying. It did move quickly, but I can see it getting crazyyy.\n",
    "\n",
    "It is a cafeteria type of restaurant, soups/bowls first then the sides. Which I think they should switch up... Cause once I sat down the soup wasn't as hot. The sides included: shrimp, squid, chicken & veggies ALL dipped in tempura batter. They did have a chicken katsu type which I didn't get to try. For my bowl I got the Nikatuma which included beef, egg & BK sauce (couldn't tell ya what this is haha) [$10.95- Regular; $12.50-Large] Believe me, that udon was sooo good & filling, I could not finish my regular bowl! The meat reminded me of Yoshina meat- which was always on point- IYKYK! We tried the shrimp, squid & chicken tempura sides and it was also really good, nothing too special about it.\n",
    "\n",
    "If Udon isn't your thing, they do have chicken or beef rice bowls which I heard were really great too. I'll have to try that next time. Yes, there will be a next time, just hoping for a shorter line! Lots of seating inside & a few tables on their patio. As of writing this review, MASKS are required inside & PROOF OF VAX to enter will be needed.\n",
    "'''\n",
    "review10_stars = 4\n",
    "\n",
    "review11 = '''\n",
    "I love Marugame! I've been here multiple times now and the food is sooo good. It starts off cafeteria style. You basically pick what noodles you want, move on to picking out tempura (if you want any), then drinks. You pay and then pick up condiments and cutlery after. One of the reasons why I love Marugame is you get your food instantly.\n",
    "\n",
    "I always get the curry udon. The noodles are fresh and springy. For dinner, make sure you get there around 5:30-6pm which is before the dinner rush. After and you will have to wait in a long line. (But the line does move quickly)\n",
    "'''\n",
    "review11_stars = 5\n",
    "\n",
    "review12 = '''\n",
    "Something feels off about the quality here. I usually get food taken out once and a while but recently I dined in and the quality was really bad? The broth for my udon was somewhat sour?? And when I watched the worker prepare my bowl there was some cross contamination with my bowl and the one for my friend. I'm really sad how consistency isn't so great at marugame.\n",
    "'''\n",
    "review12_stars = 2\n",
    "\n",
    "review13 = '''\n",
    "I love the bowl of freshly made nikutama udon from here. It comes with sweet flavored beef, a soft boiled egg, and kake sauce (a mix of dashi, soy sauce, and mirin) on top of a bed of fresh udon noodles, which are handmade on site. I like to add a piece of tempura shrimp for extra crunch and texture. So simple, yet so delicious!\n",
    "'''\n",
    "review13_stars = 4\n",
    "\n",
    "review14 = '''\n",
    "WARNING: This place gave me food poisoning. I got #9 and felt sick about 3 hours after eating it and have now been sick for 48 hours. I will say that the two people I ate with were both fine but they had gotten the #6. A quick search shows that other people have experienced food poisoning at this location so proceed with caution.\n",
    "'''\n",
    "review14_stars = 2\n",
    "\n",
    "review15 = '''\n",
    "This was my first and LAST time going to this location.\n",
    "\n",
    "I came in at 2:30pm on a weekday and was happy to see a short line of 10 people. Somehow they still managed to move the line so slow that it took 30 mins to get to the front. Then, I get to the front to be told they're completely out of beef and have been for the past hour. If I had known they were out of beef, I would have gone somewhere else. They should have had someone out front telling people or a sign instead of making people wait. Everyone in my party is forced to order something that they didn't want because we didn't want to leave after the long wait. The food we ordered (kitsune, tonkotsu, kake) were NOT good. Felt like a huge waste of money and my husband was so disgusted by his tonkotsu that he couldn't eat it. Everyone left grumpy.\n",
    "'''\n",
    "review15_stars = 2"
   ]
  },
  {
   "cell_type": "code",
   "execution_count": 152,
   "id": "65f19f87-0d7a-4d60-b7b5-1f3747d7d6cc",
   "metadata": {},
   "outputs": [
    {
     "name": "stdout",
     "output_type": "stream",
     "text": [
      "Review 1 :\n",
      "{'neg': 0.053, 'neu': 0.78, 'pos': 0.167, 'compound': 0.9829}\n",
      "5 star rating.\n",
      "\n",
      "Review 2 :\n",
      "{'neg': 0.066, 'neu': 0.802, 'pos': 0.132, 'compound': 0.92}\n",
      "4 star rating.\n",
      "\n",
      "Review 3 :\n",
      "{'neg': 0.0, 'neu': 0.701, 'pos': 0.299, 'compound': 0.9904}\n",
      "5 star rating.\n",
      "\n",
      "Review 4 :\n",
      "{'neg': 0.007, 'neu': 0.866, 'pos': 0.127, 'compound': 0.9683}\n",
      "5 star rating.\n",
      "\n",
      "Review 5 :\n",
      "{'neg': 0.05, 'neu': 0.716, 'pos': 0.234, 'compound': 0.9883}\n",
      "5 star rating.\n",
      "\n",
      "Review 6 :\n",
      "{'neg': 0.112, 'neu': 0.793, 'pos': 0.094, 'compound': 0.353}\n",
      "4 star rating.\n",
      "\n",
      "Review 7 :\n",
      "{'neg': 0.072, 'neu': 0.794, 'pos': 0.134, 'compound': 0.8979}\n",
      "4 star rating.\n",
      "\n",
      "Review 8 :\n",
      "{'neg': 0.041, 'neu': 0.809, 'pos': 0.15, 'compound': 0.9832}\n",
      "4 star rating.\n",
      "\n",
      "Review 9 :\n",
      "{'neg': 0.045, 'neu': 0.81, 'pos': 0.145, 'compound': 0.94}\n",
      "5 star rating.\n",
      "\n",
      "Review 10 :\n",
      "{'neg': 0.027, 'neu': 0.836, 'pos': 0.137, 'compound': 0.9874}\n",
      "4 star rating.\n",
      "\n",
      "Review 11 :\n",
      "{'neg': 0.012, 'neu': 0.825, 'pos': 0.163, 'compound': 0.9468}\n",
      "5 star rating.\n",
      "\n",
      "Review 12 :\n",
      "{'neg': 0.197, 'neu': 0.75, 'pos': 0.053, 'compound': -0.9291}\n",
      "2 star rating.\n",
      "\n",
      "Review 13 :\n",
      "{'neg': 0.0, 'neu': 0.741, 'pos': 0.259, 'compound': 0.9574}\n",
      "4 star rating.\n",
      "\n",
      "Review 14 :\n",
      "{'neg': 0.204, 'neu': 0.775, 'pos': 0.02, 'compound': -0.9112}\n",
      "2 star rating.\n",
      "\n",
      "Review 15 :\n",
      "{'neg': 0.102, 'neu': 0.839, 'pos': 0.059, 'compound': -0.7413}\n",
      "2 star rating.\n",
      "\n"
     ]
    }
   ],
   "source": [
    "# Vader to find the polarity of each review\n",
    "list_reviews = [review1, review2, review3, review4, review5, review6, review7, review8, review9, review10, review11, review12, review13, review14, review15]\n",
    "list_stars = [review1_stars, review2_stars, review3_stars, review4_stars, review5_stars, review6_stars, review7_stars, review8_stars, review9_stars, review10_stars, review11_stars, review12_stars, review13_stars, review14_stars, review15_stars]\n",
    "sia = vader.SentimentIntensityAnalyzer()\n",
    "for i in range(0, len(list_reviews)):\n",
    "    print(\"Review\", i + 1, \":\")\n",
    "    print(sia.polarity_scores(list_reviews[i]))\n",
    "    print(list_stars[i], \"star rating.\\n\")"
   ]
  },
  {
   "cell_type": "markdown",
   "id": "6681ecd6-a04b-4790-ba21-0e9f6b11d2ff",
   "metadata": {},
   "source": [
    "As seen in the reviews and vader sentiment analysis, the stars are somewhat correlated with the negative or positive aspect of the review, however, not entirely."
   ]
  },
  {
   "cell_type": "markdown",
   "id": "b997da81-4659-4f14-bf7e-077bf750140c",
   "metadata": {},
   "source": [
    "### Your movie reviews"
   ]
  },
  {
   "cell_type": "code",
   "execution_count": 155,
   "id": "05104832-f9ee-4e3f-abf6-a03dd62ecd15",
   "metadata": {},
   "outputs": [],
   "source": [
    "# 5 strings that contain reviews (3 sentences each) of your favorite movie comedies\n",
    "comedy1 = \"Napoleon Dynamite makes me laugh without doing anything special. The awkwardness of the character and the situations he is put in makes the movie interesting. In the end, Napoleon develops as a character and the audience grows to like him more.\"\n",
    "comedy2 = \"Shrek is a classic movie that has an unexpected interesting to follow plot. Shrek's character also undergoes character development and changes a lot in the end. Donkey also builds comedy in the movie with his interactions with the other characters.\"\n",
    "comedy3 = \"21 Jump Street has great jokes that can be relatable to mature audiences. Although the plot is nothing special, the actors bring alive the characters. This movie can ensure a good laugh as you follow along with the characters.\"\n",
    "comedy4 = \"Deadpool is one of the funniest superhero movies you can watch for mature audiences. The character of deadpool is very witty and comedic. The story is nothing special but the adventure and interactions Deadpool has makes the movie very funny.\"\n",
    "comedy5 = \"Any of the rush hour movies (especially the 3rd) is worth watching for the comedy and family story. The two actors do well complementing each other. The fighting scenes and subtle conversations in the movie make it great.\"\n",
    "# 5 strings that contain reviews (3 sentence each) of your favorite movie dramas\n",
    "drama1 = \"Titanic is a class movie that has a heartwarming story that ends tragically. The soundtrack is famous while the actors do well delivering the experiences at the time. Although it is well-liked by many, the story and scenes may feel slow and boring.\"\n",
    "drama2 = \"1917 is a movie that brings to life the experiences of world war 2. Following the camera movement and suspsense of each scene is worth watching. The environment, effects, and directing is phenomenal.\"\n",
    "drama3 = \"The Social Network is one of my favorite movies of all time. The directing and documentary feel of the movie based on real life is incredible. There is so much substance to the story and the actors and directors deliver on the movie.\"\n",
    "drama4 = \"Parasite is a korean drama that brings many real life themes into the story. The plot is suspenseful, you are on the edge of your seat. The unknown of the plot is what makes the movie so incredibly worth watching.\"\n",
    "drama5 = \"Forest Gump is one of my favorite classic movies. The development of Forest provides a great insight into the historical events during the time. The added comedic and heartwarming moments bring the movie to life.\"\n",
    "# Python list that contains these 10 strings\n",
    "reviews = [comedy1, comedy2, comedy3, comedy4, comedy5, drama1, drama2, drama3, drama4, drama5]"
   ]
  },
  {
   "cell_type": "code",
   "execution_count": 169,
   "id": "47c34a22-fc18-4902-8cd4-3fb2096c0531",
   "metadata": {},
   "outputs": [],
   "source": [
    "import pandas as pd\n",
    "from pathlib import Path  \n",
    "import glob\n",
    "from nltk.tokenize import sent_tokenize, word_tokenize\n",
    "from nltk.corpus import stopwords\n",
    "from string import punctuation"
   ]
  },
  {
   "cell_type": "code",
   "execution_count": 185,
   "id": "2f9e7c28-8d2b-405c-b111-dd9a768c83b8",
   "metadata": {},
   "outputs": [],
   "source": [
    "# Remove stop words\n",
    "extrastop = ['``',\"''\", '``',\"''\",\"'ll\",\"--\",\"\\'\\'\",\"...\"]\n",
    "myStopWords = list(punctuation) + stopwords.words('english') + extrastop\n",
    "listOfNewsWords = []\n",
    "for i in reviews:\n",
    "    listOfNewsWords.append([w for w in word_tokenize(i.lower()) if w not in myStopWords])"
   ]
  },
  {
   "cell_type": "code",
   "execution_count": null,
   "id": "39d211f1-4a8a-44b4-a7c6-a16803567be3",
   "metadata": {},
   "outputs": [],
   "source": [
    "from nltk.stem.porter import PorterStemmer\n",
    "#from nltk.stem import LancasterStemmer"
   ]
  },
  {
   "cell_type": "code",
   "execution_count": 174,
   "id": "9bc4256b-78a7-4925-bf67-9665189c8341",
   "metadata": {},
   "outputs": [],
   "source": [
    "# Create p_stemmer of class PorterStemmer\n",
    "p_stemmer = PorterStemmer()\n",
    "listOfStemmedWords = []\n",
    "for i in listOfNewsWords:\n",
    "    listOfStemmedWords.append([p_stemmer.stem(w) for w in i])"
   ]
  },
  {
   "cell_type": "code",
   "execution_count": 172,
   "id": "f682f676-7bb8-4769-83c1-35a772115bb7",
   "metadata": {},
   "outputs": [
    {
     "name": "stdout",
     "output_type": "stream",
     "text": [
      "Collecting gensim\n",
      "  Downloading gensim-4.1.2-cp39-cp39-manylinux_2_12_x86_64.manylinux2010_x86_64.whl (24.0 MB)\n",
      "\u001b[K     |████████████████████████████████| 24.0 MB 16.6 MB/s eta 0:00:01\n",
      "\u001b[?25hRequirement already satisfied: numpy>=1.17.0 in /opt/conda/lib/python3.9/site-packages (from gensim) (1.20.3)\n",
      "Collecting smart-open>=1.8.1\n",
      "  Downloading smart_open-5.2.1-py3-none-any.whl (58 kB)\n",
      "\u001b[K     |████████████████████████████████| 58 kB 2.1 MB/s  eta 0:00:01\n",
      "\u001b[?25hRequirement already satisfied: scipy>=0.18.1 in /opt/conda/lib/python3.9/site-packages (from gensim) (1.7.1)\n",
      "Installing collected packages: smart-open, gensim\n",
      "Successfully installed gensim-4.1.2 smart-open-5.2.1\n"
     ]
    }
   ],
   "source": [
    "!pip install gensim"
   ]
  },
  {
   "cell_type": "code",
   "execution_count": 175,
   "id": "6cb1680a-5337-4bf4-a0c9-eddbffef8bc4",
   "metadata": {},
   "outputs": [],
   "source": [
    "from gensim import corpora, models\n",
    "import gensim"
   ]
  },
  {
   "cell_type": "code",
   "execution_count": 179,
   "id": "e2a06c19-8875-4ec5-81b2-4c8c5a044abe",
   "metadata": {},
   "outputs": [],
   "source": [
    "dictionary = corpora.Dictionary(listOfStemmedWords)\n",
    "corpus = [dictionary.doc2bow(text) for text in listOfStemmedWords]"
   ]
  },
  {
   "cell_type": "code",
   "execution_count": 183,
   "id": "facb56dc-13f8-418c-b0a2-384002b8c756",
   "metadata": {},
   "outputs": [],
   "source": [
    "# LDA model\n",
    "ldamodel = gensim.models.ldamodel.LdaModel(corpus, \n",
    "                                           num_topics=2, \n",
    "                                           id2word = dictionary, \n",
    "                                           passes=20)"
   ]
  },
  {
   "cell_type": "code",
   "execution_count": 184,
   "id": "19b1d845-cf06-4ab4-97dc-76ad059701c6",
   "metadata": {},
   "outputs": [
    {
     "name": "stdout",
     "output_type": "stream",
     "text": [
      "(0, '0.056*\"movi\" + 0.024*\"stori\" + 0.019*\"life\" + 0.019*\"time\" + 0.019*\"one\" + 0.019*\"deadpool\" + 0.019*\"make\" + 0.018*\"charact\" + 0.013*\"scene\" + 0.013*\"end\" + 0.013*\"develop\" + 0.013*\"forest\" + 0.013*\"deliv\" + 0.013*\"heartwarm\" + 0.013*\"special\" + 0.013*\"favorit\" + 0.013*\"feel\" + 0.013*\"audienc\" + 0.013*\"comed\" + 0.013*\"experi\"')\n",
      "(1, '0.044*\"movi\" + 0.037*\"charact\" + 0.030*\"plot\" + 0.017*\"follow\" + 0.017*\"worth\" + 0.017*\"great\" + 0.017*\"watch\" + 0.017*\"bring\" + 0.017*\"actor\" + 0.017*\"make\" + 0.017*\"shrek\" + 0.017*\"also\" + 0.017*\"comedi\" + 0.017*\"stori\" + 0.010*\"interest\" + 0.010*\"laugh\" + 0.010*\"interact\" + 0.010*\"noth\" + 0.010*\"matur\" + 0.010*\"classic\"')\n"
     ]
    }
   ],
   "source": [
    "for i in ldamodel.print_topics(num_topics=2, num_words=20):\n",
    "    print(i)"
   ]
  },
  {
   "cell_type": "markdown",
   "id": "b9438406-1e89-4e45-a76f-fa4e2ba2d305",
   "metadata": {},
   "source": [
    "The words represented in the model reveal similar yet different topics. In both topics, movie is accurately revealed while also other words that are noted in typical movie reviews. Suprisingly, both topics picked up comedy. It is difficult to tell which words can be associated with the type of topic. Most words do match with the split but some may be wrong. Overall, with more sentences in review and deeper movie analysis we can investigate this conclusions further."
   ]
  }
 ],
 "metadata": {
  "kernelspec": {
   "display_name": "Python 3 (ipykernel)",
   "language": "python",
   "name": "python3"
  },
  "language_info": {
   "codemirror_mode": {
    "name": "ipython",
    "version": 3
   },
   "file_extension": ".py",
   "mimetype": "text/x-python",
   "name": "python",
   "nbconvert_exporter": "python",
   "pygments_lexer": "ipython3",
   "version": "3.9.6"
  }
 },
 "nbformat": 4,
 "nbformat_minor": 5
}
