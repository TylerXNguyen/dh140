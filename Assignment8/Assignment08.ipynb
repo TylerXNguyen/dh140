{
 "cells": [
  {
   "cell_type": "markdown",
   "id": "2bc292c8-bed4-4df6-85b8-370c3898c1c7",
   "metadata": {},
   "source": [
    "# Assignment 08 - Network Analysis "
   ]
  },
  {
   "cell_type": "markdown",
   "id": "df3cebf2-3105-467d-945e-65990e6b3087",
   "metadata": {},
   "source": [
    "### Step 1"
   ]
  },
  {
   "cell_type": "code",
   "execution_count": 52,
   "id": "a621c969-2a8d-4a22-8f7c-859afc080e9c",
   "metadata": {},
   "outputs": [],
   "source": [
    "# reads in shakespeare Romeo and Juliet play\n",
    "file = open(\"romeoandjuliet.txt\")\n",
    "text = file.read()\n",
    "file.close()"
   ]
  },
  {
   "cell_type": "code",
   "execution_count": null,
   "id": "fd59bb27-1314-4c78-b28c-06536ae99df4",
   "metadata": {},
   "outputs": [],
   "source": []
  },
  {
   "cell_type": "markdown",
   "id": "3fe59cf4-b32f-4cbe-a63f-725a40e76afa",
   "metadata": {},
   "source": [
    "### Step 2"
   ]
  },
  {
   "cell_type": "markdown",
   "id": "0e0fb8cb-adbd-45c1-b2ac-26929f85a5d5",
   "metadata": {},
   "source": [
    "We will be using Dash Cytoscape."
   ]
  },
  {
   "cell_type": "markdown",
   "id": "64423b76-ea3f-44f0-9653-f8a4b79526dd",
   "metadata": {},
   "source": [
    "INFORMATION CONTAINED IN GRAPHS IN MARKDOWN:\n",
    "\n",
    "clarify (in markdown cells) what information is contained in the graph and how you are measuring it\n",
    "\n",
    "description (via markdown cells) of the network's density and the \"most important\" nodes"
   ]
  },
  {
   "cell_type": "code",
   "execution_count": 53,
   "id": "41cdf2eb-ed84-4d08-8a4b-29c972c54fb7",
   "metadata": {},
   "outputs": [],
   "source": [
    "import dash\n",
    "import dash_cytoscape as cyto\n",
    "from dash import html, dcc\n",
    "from dash.dependencies import Input, Output\n",
    "from jupyter_dash import JupyterDash\n",
    "from jupyter_dash.comms import _send_jupyter_config_comm_request"
   ]
  },
  {
   "cell_type": "code",
   "execution_count": 54,
   "id": "510037fe-559d-4ff2-8d29-ee90ad4afb99",
   "metadata": {},
   "outputs": [],
   "source": [
    "_send_jupyter_config_comm_request()"
   ]
  },
  {
   "cell_type": "code",
   "execution_count": 56,
   "id": "11e7c937-36b3-48f4-9b75-71ef2c9742f2",
   "metadata": {},
   "outputs": [],
   "source": [
    "JupyterDash.infer_jupyter_proxy_config()"
   ]
  },
  {
   "cell_type": "code",
   "execution_count": 57,
   "id": "a45ddfe0-b7f5-435a-ba28-fc5f2caaf486",
   "metadata": {},
   "outputs": [],
   "source": [
    "with open(\"romeoandjuliet.txt\") as f:\n",
    "    x = f.read()"
   ]
  },
  {
   "cell_type": "code",
   "execution_count": 58,
   "id": "a46a50e1-3c2b-4082-ae10-9435dfd1783c",
   "metadata": {},
   "outputs": [],
   "source": [
    "acts = x.split('ACT')[6:]"
   ]
  },
  {
   "cell_type": "code",
   "execution_count": 59,
   "id": "50edbbfb-7700-43fc-b6db-04a7013468ad",
   "metadata": {
    "tags": []
   },
   "outputs": [],
   "source": [
    "characters = [\n",
    "    \"ESCALUS\",\n",
    "    \"MERCUTIO\",\n",
    "    \"PARIS\",\n",
    "    \"MONTAGUE\",\n",
    "    \"LADY MONTAGUE\",\n",
    "    \"ROMEO\",\n",
    "    \"BENVOLIO\",\n",
    "    \"ABRAM\",\n",
    "    \"BALTHASAR\",\n",
    "    \"CAPULET\",\n",
    "    \"LADY CAPULET\",\n",
    "    \"JULIET\",\n",
    "    \"TYBALT\",\n",
    "    \"CAPULET’S COUSIN\",\n",
    "    \"NURSE\",\n",
    "    \"PETER\",\n",
    "    \"SAMPSON\",\n",
    "    \"GREGORY\"\n",
    "]"
   ]
  },
  {
   "cell_type": "code",
   "execution_count": 60,
   "id": "3e54154a-bd09-442a-94be-2cc7293fd0c2",
   "metadata": {},
   "outputs": [],
   "source": [
    "charnum = {}\n",
    "\n",
    "connections = {}\n",
    "for i in range(len(characters)-1):\n",
    "    for j in range(i+1,len(characters)):\n",
    "        connections[(characters[i],characters[j])] = 0\n",
    "\n",
    "for k in characters:\n",
    "    charnum[k] = 0\n",
    "\n",
    "for i in acts:\n",
    "    for j in i.split('SCENE')[1:]:\n",
    "        scenechars = []\n",
    "        for k in characters:\n",
    "            if j.find(k) != -1:\n",
    "                scenechars.append(k)\n",
    "                charnum[k] += 1\n",
    "        for a in range(len(scenechars)-1):\n",
    "            for b in range(a+1,len(scenechars)):\n",
    "                connections[(scenechars[a],scenechars[b])] += 1"
   ]
  },
  {
   "cell_type": "markdown",
   "id": "36669136-f5e4-4b3f-b01e-cc37fc8b6b89",
   "metadata": {},
   "source": [
    "Using name of characters as nodes, and edges are the amount of times they are in the scene together."
   ]
  },
  {
   "cell_type": "code",
   "execution_count": 61,
   "id": "4f35e5be-f4b3-4e6a-9ab9-b73982a8f3ae",
   "metadata": {},
   "outputs": [],
   "source": [
    "graphitems = []\n",
    "\n",
    "for k,v in charnum.items():\n",
    "    dashnode = {'data': {'id': k,\n",
    "                         'label': k.title(),\n",
    "                         'size': str(v)}}\n",
    "    graphitems.append(dashnode)\n"
   ]
  },
  {
   "cell_type": "code",
   "execution_count": 62,
   "id": "e2c6b5c1-0789-4fd6-ad48-75717d92d11e",
   "metadata": {},
   "outputs": [],
   "source": [
    "graphitems = []\n",
    "\n",
    "for k,v in charnum.items():\n",
    "    dashnode = {'data': {'id': k,\n",
    "                         'label': k.title(),\n",
    "                         'size': str(v)}}\n",
    "    graphitems.append(dashnode)\n",
    "\n",
    "for k,v in connections.items():\n",
    "    if v != 0:\n",
    "        dashedge = {'data': {'source': k[0],\n",
    "                             'target': k[1],\n",
    "                             'weight': v}}\n",
    "        graphitems.append(dashedge)"
   ]
  },
  {
   "cell_type": "code",
   "execution_count": 63,
   "id": "29df6738-ea99-4292-b0e3-51123ee77d50",
   "metadata": {},
   "outputs": [
    {
     "name": "stdout",
     "output_type": "stream",
     "text": [
      "Dash app running on https://jupyter.idre.ucla.edu/user/tylerxn@ucla.edu/proxy/8050/\n"
     ]
    }
   ],
   "source": [
    "app = JupyterDash(__name__)\n",
    "\n",
    "app.layout = html.Div([\n",
    "    cyto.Cytoscape(\n",
    "        layout={'name': 'cose'},\n",
    "        elements=graphitems\n",
    "    )\n",
    "])\n",
    "\n",
    "app.run_server(debug=True)"
   ]
  },
  {
   "cell_type": "markdown",
   "id": "02c59aac-8384-48d2-9e78-2da7c9f00821",
   "metadata": {},
   "source": [
    "Initial graph with large nodes and little style."
   ]
  },
  {
   "cell_type": "code",
   "execution_count": 64,
   "id": "658fd0d3-13ba-444c-a542-c3bfb9c26078",
   "metadata": {},
   "outputs": [
    {
     "name": "stdout",
     "output_type": "stream",
     "text": [
      "Dash app running on https://jupyter.idre.ucla.edu/user/tylerxn@ucla.edu/proxy/8050/\n"
     ]
    }
   ],
   "source": [
    "app = JupyterDash(__name__)\n",
    "\n",
    "app.layout = html.Div([\n",
    "    cyto.Cytoscape(\n",
    "        layout={'name': 'cose'},\n",
    "        elements=graphitems,\n",
    "        style={'width': '100%', 'height': '750px'},\n",
    "    )\n",
    "])\n",
    "\n",
    "app.run_server(debug=True)"
   ]
  },
  {
   "cell_type": "code",
   "execution_count": 65,
   "id": "536594b7-f9cc-4f6a-88d7-e6c91a167c85",
   "metadata": {},
   "outputs": [
    {
     "name": "stdout",
     "output_type": "stream",
     "text": [
      "10\n"
     ]
    }
   ],
   "source": [
    "graphitems = []\n",
    "\n",
    "for k,v in charnum.items():\n",
    "    dashnode = {'data': {'id': k,\n",
    "                         'label': k.title(),\n",
    "                         'size': str(v)}}\n",
    "    graphitems.append(dashnode)\n",
    "\n",
    "correction_factor = max(connections.values())\n",
    "print(correction_factor)\n",
    "for k,v in connections.items():\n",
    "    if v != 0:\n",
    "        dashedge = {'data': {'source': k[0],\n",
    "                             'target': k[1],\n",
    "                             'weight': v/correction_factor}}\n",
    "        graphitems.append(dashedge)\n",
    "    \n",
    "#graphitems"
   ]
  },
  {
   "cell_type": "markdown",
   "id": "cab8014e-ff3a-4820-8f50-5417d715b8fb",
   "metadata": {},
   "source": [
    "Correction factor to adjust the width of the edges."
   ]
  },
  {
   "cell_type": "code",
   "execution_count": 66,
   "id": "d6a518b9-61b3-42d9-9eab-c4478e58e681",
   "metadata": {},
   "outputs": [
    {
     "name": "stdout",
     "output_type": "stream",
     "text": [
      "Dash app running on https://jupyter.idre.ucla.edu/user/tylerxn@ucla.edu/proxy/8050/\n"
     ]
    }
   ],
   "source": [
    "app = JupyterDash(__name__)\n",
    "\n",
    "app.layout = html.Div([\n",
    "    cyto.Cytoscape(\n",
    "        layout={'name': 'cose'},\n",
    "        elements=graphitems,\n",
    "        style={'width': '75%', 'height': '1000px'},\n",
    "        stylesheet=[\n",
    "            {\n",
    "                'selector': 'node',\n",
    "                'style': {\n",
    "                    'content':'data(label)',\n",
    "                    'text-halign':'center',\n",
    "                    'text-valign':'center',\n",
    "                    'width': 'data(size)',\n",
    "                    'height': 'data(size)',\n",
    "                    'font-size':4,\n",
    "                    'color': 'black',\n",
    "                    'background-color': 'red',\n",
    "                    'text-outline-color': 'white',\n",
    "                    'text-outline-width': 0.2,\n",
    "                    'shape':'circle'\n",
    "                }\n",
    "            },\n",
    "            {\n",
    "                'selector':'edge',\n",
    "                'style': {\n",
    "                    'width':'data(weight)',\n",
    "                    'line-color': 'blue',\n",
    "                  }\n",
    "            },\n",
    "        ]\n",
    "    )\n",
    "])\n",
    "\n",
    "app.run_server(debug=True)"
   ]
  },
  {
   "cell_type": "markdown",
   "id": "8e31080b-5bd6-4459-95f8-1d5e5203b20e",
   "metadata": {},
   "source": [
    "Final Graph Completed Submition."
   ]
  },
  {
   "cell_type": "markdown",
   "id": "1450eb6e-9f97-4638-8dfb-d35bcdff14bf",
   "metadata": {},
   "source": [
    "Most important nodes are the characters most mention in scenes together. Metric value is below count."
   ]
  },
  {
   "cell_type": "code",
   "execution_count": 67,
   "id": "5c2e768f-f9e9-490d-b6c0-ec11996b1425",
   "metadata": {},
   "outputs": [],
   "source": [
    "import networkx as nx\n",
    "import matplotlib.pyplot as pl"
   ]
  },
  {
   "cell_type": "code",
   "execution_count": 68,
   "id": "98f298ab-952e-4d34-8d80-0ff7a4a7f14b",
   "metadata": {},
   "outputs": [
    {
     "data": {
      "text/plain": [
       "[('MERCUTIO', 'MONTAGUE'),\n",
       " ('MERCUTIO', 'ROMEO'),\n",
       " ('MERCUTIO', 'BENVOLIO'),\n",
       " ('MERCUTIO', 'CAPULET'),\n",
       " ('MERCUTIO', 'LADY CAPULET'),\n",
       " ('MERCUTIO', 'TYBALT'),\n",
       " ('MERCUTIO', 'NURSE'),\n",
       " ('MERCUTIO', 'PETER'),\n",
       " ('PARIS', 'MONTAGUE'),\n",
       " ('PARIS', 'ROMEO'),\n",
       " ('PARIS', 'BENVOLIO'),\n",
       " ('PARIS', 'BALTHASAR'),\n",
       " ('PARIS', 'CAPULET'),\n",
       " ('PARIS', 'LADY CAPULET'),\n",
       " ('PARIS', 'JULIET'),\n",
       " ('PARIS', 'NURSE'),\n",
       " ('PARIS', 'PETER'),\n",
       " ('MONTAGUE', 'LADY MONTAGUE'),\n",
       " ('MONTAGUE', 'ROMEO'),\n",
       " ('MONTAGUE', 'BENVOLIO'),\n",
       " ('MONTAGUE', 'ABRAM'),\n",
       " ('MONTAGUE', 'BALTHASAR'),\n",
       " ('MONTAGUE', 'CAPULET'),\n",
       " ('MONTAGUE', 'LADY CAPULET'),\n",
       " ('MONTAGUE', 'JULIET'),\n",
       " ('MONTAGUE', 'TYBALT'),\n",
       " ('MONTAGUE', 'SAMPSON'),\n",
       " ('MONTAGUE', 'GREGORY'),\n",
       " ('LADY MONTAGUE', 'ROMEO'),\n",
       " ('LADY MONTAGUE', 'BENVOLIO'),\n",
       " ('LADY MONTAGUE', 'ABRAM'),\n",
       " ('LADY MONTAGUE', 'CAPULET'),\n",
       " ('LADY MONTAGUE', 'LADY CAPULET'),\n",
       " ('LADY MONTAGUE', 'TYBALT'),\n",
       " ('LADY MONTAGUE', 'SAMPSON'),\n",
       " ('LADY MONTAGUE', 'GREGORY'),\n",
       " ('ROMEO', 'BENVOLIO'),\n",
       " ('ROMEO', 'ABRAM'),\n",
       " ('ROMEO', 'BALTHASAR'),\n",
       " ('ROMEO', 'CAPULET'),\n",
       " ('ROMEO', 'LADY CAPULET'),\n",
       " ('ROMEO', 'JULIET'),\n",
       " ('ROMEO', 'TYBALT'),\n",
       " ('ROMEO', 'CAPULET’S COUSIN'),\n",
       " ('ROMEO', 'NURSE'),\n",
       " ('ROMEO', 'PETER'),\n",
       " ('ROMEO', 'SAMPSON'),\n",
       " ('ROMEO', 'GREGORY'),\n",
       " ('BENVOLIO', 'ABRAM'),\n",
       " ('BENVOLIO', 'CAPULET'),\n",
       " ('BENVOLIO', 'LADY CAPULET'),\n",
       " ('BENVOLIO', 'JULIET'),\n",
       " ('BENVOLIO', 'TYBALT'),\n",
       " ('BENVOLIO', 'CAPULET’S COUSIN'),\n",
       " ('BENVOLIO', 'NURSE'),\n",
       " ('BENVOLIO', 'PETER'),\n",
       " ('BENVOLIO', 'SAMPSON'),\n",
       " ('BENVOLIO', 'GREGORY'),\n",
       " ('ABRAM', 'CAPULET'),\n",
       " ('ABRAM', 'LADY CAPULET'),\n",
       " ('ABRAM', 'TYBALT'),\n",
       " ('ABRAM', 'SAMPSON'),\n",
       " ('ABRAM', 'GREGORY'),\n",
       " ('BALTHASAR', 'CAPULET'),\n",
       " ('BALTHASAR', 'LADY CAPULET'),\n",
       " ('BALTHASAR', 'JULIET'),\n",
       " ('CAPULET', 'LADY CAPULET'),\n",
       " ('CAPULET', 'JULIET'),\n",
       " ('CAPULET', 'TYBALT'),\n",
       " ('CAPULET', 'CAPULET’S COUSIN'),\n",
       " ('CAPULET', 'NURSE'),\n",
       " ('CAPULET', 'PETER'),\n",
       " ('CAPULET', 'SAMPSON'),\n",
       " ('CAPULET', 'GREGORY'),\n",
       " ('LADY CAPULET', 'JULIET'),\n",
       " ('LADY CAPULET', 'TYBALT'),\n",
       " ('LADY CAPULET', 'NURSE'),\n",
       " ('LADY CAPULET', 'PETER'),\n",
       " ('LADY CAPULET', 'SAMPSON'),\n",
       " ('LADY CAPULET', 'GREGORY'),\n",
       " ('JULIET', 'TYBALT'),\n",
       " ('JULIET', 'CAPULET’S COUSIN'),\n",
       " ('JULIET', 'NURSE'),\n",
       " ('TYBALT', 'CAPULET’S COUSIN'),\n",
       " ('TYBALT', 'NURSE'),\n",
       " ('TYBALT', 'SAMPSON'),\n",
       " ('TYBALT', 'GREGORY'),\n",
       " ('CAPULET’S COUSIN', 'NURSE'),\n",
       " ('NURSE', 'PETER'),\n",
       " ('SAMPSON', 'GREGORY')]"
      ]
     },
     "execution_count": 68,
     "metadata": {},
     "output_type": "execute_result"
    }
   ],
   "source": [
    "nxgraphitems = []\n",
    "\n",
    "# for k,v in charnum.items():\n",
    "#     dashnode = k\n",
    "#     graphitems.append(dashnode)\n",
    "\n",
    "for k,v in connections.items():\n",
    "    if v != 0:\n",
    "        dashedge = (k[0],k[1])\n",
    "        nxgraphitems.append(dashedge)\n",
    "    \n",
    "nxgraphitems"
   ]
  }
 ],
 "metadata": {
  "kernelspec": {
   "display_name": "Python 3 (ipykernel)",
   "language": "python",
   "name": "python3"
  },
  "language_info": {
   "codemirror_mode": {
    "name": "ipython",
    "version": 3
   },
   "file_extension": ".py",
   "mimetype": "text/x-python",
   "name": "python",
   "nbconvert_exporter": "python",
   "pygments_lexer": "ipython3",
   "version": "3.9.6"
  }
 },
 "nbformat": 4,
 "nbformat_minor": 5
}
