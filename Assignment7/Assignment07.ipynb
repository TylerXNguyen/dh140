{
 "cells": [
  {
   "cell_type": "markdown",
   "id": "4a139698-c981-47d7-aca7-a08ebcdc1752",
   "metadata": {},
   "source": [
    "# Assignment 7"
   ]
  },
  {
   "cell_type": "markdown",
   "id": "e60d0458-7492-4334-9273-68fb2a4488f0",
   "metadata": {},
   "source": [
    "### Step 1"
   ]
  },
  {
   "cell_type": "code",
   "execution_count": null,
   "id": "b951bfac-3494-4e4c-9200-055ec15aedd6",
   "metadata": {},
   "outputs": [],
   "source": [
    "# reads in shakespeare macbeth play\n",
    "file = open(\"Macbeth.txt\")\n",
    "text = file.read()\n",
    "file.close()"
   ]
  },
  {
   "cell_type": "markdown",
   "id": "3dab7aa5-45eb-496e-b8a9-ad3b7358d7ad",
   "metadata": {},
   "source": [
    "### Step 2"
   ]
  },
  {
   "cell_type": "code",
   "execution_count": 17,
   "id": "accf1ab5-4a46-4e42-ab1e-f5377113edd8",
   "metadata": {},
   "outputs": [
    {
     "name": "stdout",
     "output_type": "stream",
     "text": [
      "[('I', 348), ('MACBETH', 208), ('And', 154), ('The', 147), ('That', 92), ('MACDUFF', 80), ('LADY', 80), ('Macbeth', 79), ('To', 74), ('Enter', 71), ('thou', 66), ('What', 65), ('thee', 60), ('A', 55), ('us', 55), ('But', 53), ('upon', 52), ('WITCH', 51), ('yet', 48), ('shall', 47), ('good', 44), ('time', 44), ('thy', 43), ('th', 43), ('MALCOLM', 41), ('He', 41), ('ROSS', 39), ('hath', 39), ('Banquo', 38), ('FIRST', 38), ('done', 38), ('would', 37), ('As', 35), ('Which', 35), ('say', 35), ('make', 35), ('BANQUO', 34), ('like', 34), ('lord', 34), ('fear', 34), ('come', 33), ('man', 33), ('In', 32), ('know', 32), ('Macduff', 31), ('must', 31), ('We', 31), ('MURDERER', 31), ('My', 30), ('SCENE', 29)]\n"
     ]
    }
   ],
   "source": [
    "# Tokenize the words, remove stopwords, stem or lemmatize the words, and calculate the word frequencies\n",
    "\n",
    "# imports\n",
    "import nltk\n",
    "from nltk.tokenize import word_tokenize, sent_tokenize\n",
    "from nltk.corpus import stopwords\n",
    "from string import punctuation\n",
    "#nltk.download('stopwords')\n",
    "from nltk.stem import WordNetLemmatizer\n",
    "import collections\n",
    "from collections import Counter\n",
    "\n",
    "# tokenization\n",
    "sent = sent_tokenize(text)\n",
    "words = []\n",
    "for s in sent:\n",
    "    for w in word_tokenize(s):\n",
    "        words.append(w)\n",
    "\n",
    "# removing stopwords\n",
    "myStopWords = list(punctuation) + stopwords.words('english') + list(['’', '?', ']', '['])\n",
    "wordsNoStopComp = [w for w in words if w not in myStopWords]\n",
    "\n",
    "# lemmatize\n",
    "macbethstemmed = [WordNetLemmatizer().lemmatize(w) for w in wordsNoStopComp]\n",
    "\n",
    "# top 50 most frequent words in Macbeth\n",
    "word_freq = collections.Counter(wordsNoStopComp)\n",
    "print(word_freq.most_common(50))"
   ]
  },
  {
   "cell_type": "code",
   "execution_count": 31,
   "id": "a31ff726-81c9-4dab-a398-57bfa448548b",
   "metadata": {},
   "outputs": [],
   "source": [
    "# imports\n",
    "import pandas as pd\n",
    "import numpy as np"
   ]
  },
  {
   "cell_type": "code",
   "execution_count": 41,
   "id": "ad6deea0-8317-42bf-a82c-5e3c3d8c226a",
   "metadata": {},
   "outputs": [
    {
     "name": "stdout",
     "output_type": "stream",
     "text": [
      "Mean: 3.261554902484638\n",
      "\n",
      "Median: 1.0\n",
      "\n",
      "Mode: 0    1\n",
      "dtype: int64\n",
      "\n",
      "Trimmed Mean (Trimmed where count > 1): 1421.0\n"
     ]
    }
   ],
   "source": [
    "# For the word frequencies, calculate the mean, median, mode, and trimmed mean\n",
    "# For the trimmed mean, you can choose what to trim, but comment on the number used for trimming.\n",
    "df_word = pd.DataFrame({\"Word Freq\": word_freq.values()})\n",
    "print(\"Mean:\", df_word[\"Word Freq\"].mean())\n",
    "print(\"\\nMedian:\", df_word[\"Word Freq\"].median())\n",
    "print(\"\\nMode:\", df_word[\"Word Freq\"].mode())\n",
    "print(\"\\nTrimmed Mean (Trimmed where count > 1):\", df_word[df_word[\"Word Freq\"] > 1].count().mean())"
   ]
  },
  {
   "cell_type": "code",
   "execution_count": 46,
   "id": "8d6af820-3376-4aa1-b744-331b211500c6",
   "metadata": {},
   "outputs": [
    {
     "name": "stdout",
     "output_type": "stream",
     "text": [
      "Mean:  3.261554902484638\n",
      "Median:  1.0\n",
      "Mode:  0    1\n",
      "dtype: int64\n"
     ]
    },
    {
     "data": {
      "image/png": "[encoded data removed]",
      "text/plain": [
       "<Figure size 432x288 with 1 Axes>"
      ]
     },
     "metadata": {
      "needs_background": "light"
     },
     "output_type": "display_data"
    }
   ],
   "source": [
    "# Plot a histogram of the word frequency data and comment on the relative locations of the mean, median, mode, and trimmed mean\n",
    "df_word[\"Word Freq\"].plot(kind='hist',bins=50)\n",
    "print('Mean: ',df_word[\"Word Freq\"].mean())\n",
    "print('Median: ',df_word[\"Word Freq\"].median())\n",
    "print('Mode: ',df_word[\"Word Freq\"].mode())"
   ]
  },
  {
   "cell_type": "markdown",
   "id": "c2755454-98c0-45aa-bbf9-da3e87438d30",
   "metadata": {},
   "source": [
    "The mean, median, and mode are very close to the left. This suggests that the central tendency of the distribution is uneven. As seen with the histogram, it is right-skewed."
   ]
  },
  {
   "cell_type": "code",
   "execution_count": 69,
   "id": "33a98a8d-426f-4d32-bfcd-5717daf859ca",
   "metadata": {},
   "outputs": [
    {
     "name": "stdout",
     "output_type": "stream",
     "text": [
      "Standard deviation: 9.660202542288374\n",
      "Interquartile range: 1.0\n"
     ]
    }
   ],
   "source": [
    "# Calculate the standard deviation and the interquartile range (the difference of the 75% and 25% quantile)\n",
    "print(\"Standard deviation:\", np.std(df_word[\"Word Freq\"]))\n",
    "Q1 = df_word[\"Word Freq\"].quantile(0.25)\n",
    "Q3 = df_word[\"Word Freq\"].quantile(0.75)\n",
    "print(\"Interquartile range:\", Q3 - Q1)"
   ]
  },
  {
   "cell_type": "markdown",
   "id": "3f1c942f-755a-4f0b-89cd-35e863dce5a1",
   "metadata": {},
   "source": [
    "Similarily, the Interquartile range (IQR) is very close the left and is very small as well as the standard deviation. Standard deviation is slightly larger than the IQR since some outlier points are very large and the distribution is not focused to heavily on the right."
   ]
  },
  {
   "cell_type": "markdown",
   "id": "9c827ab9-0d9a-431d-8fac-a1c39cc70b4c",
   "metadata": {},
   "source": [
    "### Step 3"
   ]
  },
  {
   "cell_type": "code",
   "execution_count": 71,
   "id": "2aa4c769-d88a-4949-9f18-b88b2c89f7f9",
   "metadata": {},
   "outputs": [
    {
     "name": "stdout",
     "output_type": "stream",
     "text": [
      ".. _diabetes_dataset:\n",
      "\n",
      "Diabetes dataset\n",
      "----------------\n",
      "\n",
      "Ten baseline variables, age, sex, body mass index, average blood\n",
      "pressure, and six blood serum measurements were obtained for each of n =\n",
      "442 diabetes patients, as well as the response of interest, a\n",
      "quantitative measure of disease progression one year after baseline.\n",
      "\n",
      "**Data Set Characteristics:**\n",
      "\n",
      "  :Number of Instances: 442\n",
      "\n",
      "  :Number of Attributes: First 10 columns are numeric predictive values\n",
      "\n",
      "  :Target: Column 11 is a quantitative measure of disease progression one year after baseline\n",
      "\n",
      "  :Attribute Information:\n",
      "      - age     age in years\n",
      "      - sex\n",
      "      - bmi     body mass index\n",
      "      - bp      average blood pressure\n",
      "      - s1      tc, total serum cholesterol\n",
      "      - s2      ldl, low-density lipoproteins\n",
      "      - s3      hdl, high-density lipoproteins\n",
      "      - s4      tch, total cholesterol / HDL\n",
      "      - s5      ltg, possibly log of serum triglycerides level\n",
      "      - s6      glu, blood sugar level\n",
      "\n",
      "Note: Each of these 10 feature variables have been mean centered and scaled by the standard deviation times `n_samples` (i.e. the sum of squares of each column totals 1).\n",
      "\n",
      "Source URL:\n",
      "https://www4.stat.ncsu.edu/~boos/var.select/diabetes.html\n",
      "\n",
      "For more information see:\n",
      "Bradley Efron, Trevor Hastie, Iain Johnstone and Robert Tibshirani (2004) \"Least Angle Regression,\" Annals of Statistics (with discussion), 407-499.\n",
      "(https://web.stanford.edu/~hastie/Papers/LARS/LeastAngle_2002.pdf)\n"
     ]
    }
   ],
   "source": [
    "# Import scikit-learn\n",
    "from sklearn import datasets\n",
    "df = datasets.load_diabetes(as_frame=True)\n",
    "features_df = df.data\n",
    "target_df = df.target\n",
    "\n",
    "import matplotlib.pyplot as plt\n",
    "from sklearn.linear_model import LinearRegression\n",
    "from sklearn.metrics import mean_squared_error, r2_score\n",
    "\n",
    "print(df.DESCR)"
   ]
  },
  {
   "cell_type": "code",
   "execution_count": 78,
   "id": "b16c74bb-77b4-4257-89b0-c378d46fd87f",
   "metadata": {},
   "outputs": [
    {
     "name": "stdout",
     "output_type": "stream",
     "text": [
      "<class 'sklearn.utils.Bunch'>\n",
      "                age           sex           bmi            bp            s1  \\\n",
      "count  4.420000e+02  4.420000e+02  4.420000e+02  4.420000e+02  4.420000e+02   \n",
      "mean  -3.634285e-16  1.308343e-16 -8.045349e-16  1.281655e-16 -8.835316e-17   \n",
      "std    4.761905e-02  4.761905e-02  4.761905e-02  4.761905e-02  4.761905e-02   \n",
      "min   -1.072256e-01 -4.464164e-02 -9.027530e-02 -1.123996e-01 -1.267807e-01   \n",
      "25%   -3.729927e-02 -4.464164e-02 -3.422907e-02 -3.665645e-02 -3.424784e-02   \n",
      "50%    5.383060e-03 -4.464164e-02 -7.283766e-03 -5.670611e-03 -4.320866e-03   \n",
      "75%    3.807591e-02  5.068012e-02  3.124802e-02  3.564384e-02  2.835801e-02   \n",
      "max    1.107267e-01  5.068012e-02  1.705552e-01  1.320442e-01  1.539137e-01   \n",
      "\n",
      "                 s2            s3            s4            s5            s6  \n",
      "count  4.420000e+02  4.420000e+02  4.420000e+02  4.420000e+02  4.420000e+02  \n",
      "mean   1.327024e-16 -4.574646e-16  3.777301e-16 -3.830854e-16 -3.412882e-16  \n",
      "std    4.761905e-02  4.761905e-02  4.761905e-02  4.761905e-02  4.761905e-02  \n",
      "min   -1.156131e-01 -1.023071e-01 -7.639450e-02 -1.260974e-01 -1.377672e-01  \n",
      "25%   -3.035840e-02 -3.511716e-02 -3.949338e-02 -3.324879e-02 -3.317903e-02  \n",
      "50%   -3.819065e-03 -6.584468e-03 -2.592262e-03 -1.947634e-03 -1.077698e-03  \n",
      "75%    2.984439e-02  2.931150e-02  3.430886e-02  3.243323e-02  2.791705e-02  \n",
      "max    1.987880e-01  1.811791e-01  1.852344e-01  1.335990e-01  1.356118e-01  \n",
      "0      151.0\n",
      "1       75.0\n",
      "2      141.0\n",
      "3      206.0\n",
      "4      135.0\n",
      "       ...  \n",
      "437    178.0\n",
      "438    104.0\n",
      "439    132.0\n",
      "440    220.0\n",
      "441     57.0\n",
      "Name: target, Length: 442, dtype: float64\n"
     ]
    },
    {
     "data": {
      "image/png": "[encoded data removed]",
      "text/plain": [
       "<Figure size 432x288 with 1 Axes>"
      ]
     },
     "metadata": {
      "needs_background": "light"
     },
     "output_type": "display_data"
    }
   ],
   "source": [
    "# Do some exploratory data analysis of the features, including getting summary statistical information\n",
    "print(type(df))\n",
    "print(features_df.describe())\n",
    "features_df.plot(kind='box')"
   ]
  },
  {
   "cell_type": "code",
   "execution_count": 107,
   "id": "5a579604-0491-4b31-b9d5-3e4d69d168cb",
   "metadata": {},
   "outputs": [
    {
     "name": "stdout",
     "output_type": "stream",
     "text": [
      "          age       sex       bmi        bp        s1        s2        s3  \\\n",
      "age  1.000000  0.173737  0.185085  0.335427  0.260061  0.219243 -0.075181   \n",
      "sex  0.173737  1.000000  0.088161  0.241013  0.035277  0.142637 -0.379090   \n",
      "bmi  0.185085  0.088161  1.000000  0.395415  0.249777  0.261170 -0.366811   \n",
      "bp   0.335427  0.241013  0.395415  1.000000  0.242470  0.185558 -0.178761   \n",
      "s1   0.260061  0.035277  0.249777  0.242470  1.000000  0.896663  0.051519   \n",
      "s2   0.219243  0.142637  0.261170  0.185558  0.896663  1.000000 -0.196455   \n",
      "s3  -0.075181 -0.379090 -0.366811 -0.178761  0.051519 -0.196455  1.000000   \n",
      "s4   0.203841  0.332115  0.413807  0.257653  0.542207  0.659817 -0.738493   \n",
      "s5   0.270777  0.149918  0.446159  0.393478  0.515501  0.318353 -0.398577   \n",
      "s6   0.301731  0.208133  0.388680  0.390429  0.325717  0.290600 -0.273697   \n",
      "y    0.187889  0.043062  0.586450  0.441484  0.212022  0.174054 -0.394789   \n",
      "\n",
      "           s4        s5        s6         y  \n",
      "age  0.203841  0.270777  0.301731  0.187889  \n",
      "sex  0.332115  0.149918  0.208133  0.043062  \n",
      "bmi  0.413807  0.446159  0.388680  0.586450  \n",
      "bp   0.257653  0.393478  0.390429  0.441484  \n",
      "s1   0.542207  0.515501  0.325717  0.212022  \n",
      "s2   0.659817  0.318353  0.290600  0.174054  \n",
      "s3  -0.738493 -0.398577 -0.273697 -0.394789  \n",
      "s4   1.000000  0.617857  0.417212  0.430453  \n",
      "s5   0.617857  1.000000  0.464670  0.565883  \n",
      "s6   0.417212  0.464670  1.000000  0.382483  \n",
      "y    0.430453  0.565883  0.382483  1.000000  \n",
      "age    0.187889\n",
      "sex    0.043062\n",
      "bmi    0.586450\n",
      "bp     0.441484\n",
      "s1     0.212022\n",
      "s2     0.174054\n",
      "s3    -0.394789\n",
      "s4     0.430453\n",
      "s5     0.565883\n",
      "s6     0.382483\n",
      "y      1.000000\n",
      "Name: y, dtype: float64\n",
      "\n",
      "BMI body mass index, has the highest correlation coefficient: 0.58645\n"
     ]
    }
   ],
   "source": [
    "# Find the column in features_df that has the highest correlation coefficient with the target values in target_df\n",
    "ml = features_df.copy()\n",
    "ml[\"y\"] = target_df\n",
    "print(ml.corr())\n",
    "print(ml.corr()[\"y\"])\n",
    "print(\"\\nBMI body mass index, has the highest correlation coefficient:\", 0.586450)"
   ]
  },
  {
   "cell_type": "code",
   "execution_count": 109,
   "id": "47854b94-d73f-4c76-bf6d-9d7ddd8cfb46",
   "metadata": {},
   "outputs": [
    {
     "data": {
      "image/png": "[encoded data removed]",
      "text/plain": [
       "<Figure size 432x288 with 1 Axes>"
      ]
     },
     "metadata": {
      "needs_background": "light"
     },
     "output_type": "display_data"
    }
   ],
   "source": [
    "# Make a scatter plot of the target values vs this feature column's values\n",
    "# comment on how the plotted points match up with the correlation coefficient\n",
    "X = features_df\n",
    "y = target_df\n",
    "model = pd.DataFrame({\"X\": X[\"bmi\"], \"y\": y})\n",
    "model.plot(kind='scatter',\n",
    "        x= \"X\",\n",
    "        y= \"y\");"
   ]
  },
  {
   "cell_type": "markdown",
   "id": "3c89b8c2-c79e-49ff-8164-890674a8d663",
   "metadata": {},
   "source": [
    "The plotted values seem to be positively correlated. Since the strength of the coefficient is positive, it makes sense that the plot looks like it is positively distributed, increasing in y for every increase in x."
   ]
  },
  {
   "cell_type": "code",
   "execution_count": 137,
   "id": "8632438b-53b2-4e3b-9d56-2d7ac66ca8d3",
   "metadata": {},
   "outputs": [
    {
     "name": "stdout",
     "output_type": "stream",
     "text": [
      "Regression Coef: [949.43526038]\n",
      "Regression intercept: 152.1334841628967\n",
      "MSE: 3890.4565854612724\n",
      "r-squared: 0.3439237602253803\n"
     ]
    },
    {
     "data": {
      "image/png": "[encoded data removed]",
      "text/plain": [
       "<Figure size 432x288 with 1 Axes>"
      ]
     },
     "metadata": {
      "needs_background": "light"
     },
     "output_type": "display_data"
    }
   ],
   "source": [
    "# Using this feature and target, perform linear regression with sklearn's LinearRegression\n",
    "# Print the coefficients of the model\n",
    "# Plot the linear fit on top of the scatter plot\n",
    "# Calculate (or output) the mean squared error and R-squared values for your fit\n",
    "X = np.array(features_df[\"bmi\"])\n",
    "reg = LinearRegression().fit(X.reshape(-1,1), y)\n",
    "print(\"Regression Coef:\", reg.coef_)\n",
    "print(\"Regression intercept:\", reg.intercept_)\n",
    "ytrain = reg.intercept_ + reg.coef_ * X\n",
    "plt.plot(X,y,'ro',X,ytrain,'b-')\n",
    "print(\"MSE:\", mean_squared_error(y, ytrain))\n",
    "print(\"r-squared:\", r2_score(y, ytrain))"
   ]
  },
  {
   "cell_type": "code",
   "execution_count": 136,
   "id": "65fb7bed-9404-451e-a919-a86760679b41",
   "metadata": {},
   "outputs": [
    {
     "name": "stdout",
     "output_type": "stream",
     "text": [
      "Regression Coef: [304.18307453]\n",
      "\n",
      "Regression intercept: 152.13348416289605\n",
      "MSE: 5720.5470172056475\n",
      "r-squared: 0.03530218264671636\n"
     ]
    },
    {
     "data": {
      "image/png": "[encoded data removed]",
      "text/plain": [
       "<Figure size 432x288 with 1 Axes>"
      ]
     },
     "metadata": {
      "needs_background": "light"
     },
     "output_type": "display_data"
    }
   ],
   "source": [
    "# Try doing linear regression with another variable\n",
    "# check how the new fit's mean squared error and R-squared values change.\n",
    "X = np.array(features_df[\"age\"])\n",
    "reg = LinearRegression().fit(X.reshape(-1,1), y)\n",
    "print(\"Regression Coef:\", reg.coef_)\n",
    "print(\"Regression intercept:\", reg.intercept_)\n",
    "ytrain = reg.intercept_ + reg.coef_ * X\n",
    "plt.plot(X,y,'ro',X,ytrain,'b-')\n",
    "print(\"MSE:\", mean_squared_error(y, ytrain))\n",
    "print(\"r-squared:\", r2_score(y, ytrain))"
   ]
  },
  {
   "cell_type": "code",
   "execution_count": null,
   "id": "959e5af0-ab4f-4eed-b2b6-68286e6b8533",
   "metadata": {},
   "outputs": [],
   "source": []
  }
 ],
 "metadata": {
  "kernelspec": {
   "display_name": "Python 3 (ipykernel)",
   "language": "python",
   "name": "python3"
  },
  "language_info": {
   "codemirror_mode": {
    "name": "ipython",
    "version": 3
   },
   "file_extension": ".py",
   "mimetype": "text/x-python",
   "name": "python",
   "nbconvert_exporter": "python",
   "pygments_lexer": "ipython3",
   "version": "3.9.6"
  }
 },
 "nbformat": 4,
 "nbformat_minor": 5
}
