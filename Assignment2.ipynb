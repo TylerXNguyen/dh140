{
 "cells": [
  {
   "cell_type": "markdown",
   "id": "d5fbd950-b4fb-4399-b32e-66b6b827f79c",
   "metadata": {},
   "source": [
    "# Assignment 02 - make a Python notebook to analyze CORGIS data\n",
    "## Tyler Nguyen (#505548431)"
   ]
  },
  {
   "cell_type": "markdown",
   "id": "70dddfc7-0a18-49e1-b067-fb51e9ef6f0c",
   "metadata": {},
   "source": [
    "### Description\n",
    "Billionare Data Set:\n",
    "https://corgis-edu.github.io/corgis/csv/billionaires/\n",
    "\n",
    "Detailed history of each billionares from 1996-2014. Includes information about company, method to wealth. Each entry is a row."
   ]
  },
  {
   "cell_type": "code",
   "execution_count": 14,
   "id": "a4d49bb3-a30a-4bd5-8713-15c29dd61e2e",
   "metadata": {},
   "outputs": [],
   "source": [
    "import pandas as pd\n",
    "# commands to read the datafile\n",
    "df = pd.read_csv(\"billionaires.csv\")"
   ]
  },
  {
   "cell_type": "code",
   "execution_count": 15,
   "id": "1930f5d1-72f8-4f78-9bf5-9366d19622fc",
   "metadata": {},
   "outputs": [
    {
     "name": "stdout",
     "output_type": "stream",
     "text": [
      "                name  rank  year  company.founded  \\\n",
      "0         Bill Gates     1  1996             1975   \n",
      "1         Bill Gates     1  2001             1975   \n",
      "2         Bill Gates     1  2014             1975   \n",
      "3     Warren Buffett     2  1996             1962   \n",
      "4     Warren Buffett     2  2001             1962   \n",
      "...              ...   ...   ...              ...   \n",
      "2609     Wu Chung-Yi  1565  2014             1991   \n",
      "2610        Wu Xiong  1565  2014             1999   \n",
      "2611       Yang Keng  1565  2014                0   \n",
      "2612   Zdenek Bakala  1565  2014             1994   \n",
      "2613     Zhu Wenchen  1565  2014             1999   \n",
      "\n",
      "                         company.name company.relationship  \\\n",
      "0                           Microsoft              founder   \n",
      "1                           Microsoft              founder   \n",
      "2                           Microsoft              founder   \n",
      "3                  Berkshire Hathaway              founder   \n",
      "4                  Berkshire Hathaway              founder   \n",
      "...                               ...                  ...   \n",
      "2609                           Tingyi             investor   \n",
      "2610  Biostime International Holdings                owner   \n",
      "2611                    Blue Ray Corp             chairman   \n",
      "2612                   Patria Finance              founder   \n",
      "2613       Furen Pharmaceutical Group             chairman   \n",
      "\n",
      "          company.sector company.type  demographics.age demographics.gender  \\\n",
      "0               Software          new                40                male   \n",
      "1               Software          new                45                male   \n",
      "2               Software          new                58                male   \n",
      "3                Finance          new                65                male   \n",
      "4                Finance          new                70                male   \n",
      "...                  ...          ...               ...                 ...   \n",
      "2609  beverages and food          new                55                male   \n",
      "2610      infant formula          new                 0                male   \n",
      "2611         real estate          new                53                male   \n",
      "2612                coal          new                53                male   \n",
      "2613     pharmaceuticals          new                48                male   \n",
      "\n",
      "      ...  location.gdp location.region               wealth.type  \\\n",
      "0     ...  8.100000e+12   North America       founder non-finance   \n",
      "1     ...  1.060000e+13   North America       founder non-finance   \n",
      "2     ...  0.000000e+00   North America       founder non-finance   \n",
      "3     ...  8.100000e+12   North America       founder non-finance   \n",
      "4     ...  1.060000e+13   North America       founder non-finance   \n",
      "...   ...           ...             ...                       ...   \n",
      "2609  ...  0.000000e+00       East Asia                 executive   \n",
      "2610  ...  0.000000e+00       East Asia                 executive   \n",
      "2611  ...  0.000000e+00       East Asia         self-made finance   \n",
      "2612  ...  0.000000e+00          Europe  privatized and resources   \n",
      "2613  ...  0.000000e+00       East Asia                 executive   \n",
      "\n",
      "     wealth.worth in billions wealth.how.category  wealth.how.from emerging  \\\n",
      "0                        18.5         New Sectors                      True   \n",
      "1                        58.7         New Sectors                      True   \n",
      "2                        76.0         New Sectors                      True   \n",
      "3                        15.0      Traded Sectors                      True   \n",
      "4                        32.3      Traded Sectors                      True   \n",
      "...                       ...                 ...                       ...   \n",
      "2609                      1.0      Traded Sectors                      True   \n",
      "2610                      1.0      Traded Sectors                      True   \n",
      "2611                      1.0           Financial                      True   \n",
      "2612                      1.0    Resource Related                      True   \n",
      "2613                      1.0         New Sectors                      True   \n",
      "\n",
      "          wealth.how.industry  wealth.how.inherited wealth.how.was founder  \\\n",
      "0         Technology-Computer         not inherited                   True   \n",
      "1         Technology-Computer         not inherited                   True   \n",
      "2         Technology-Computer         not inherited                   True   \n",
      "3                    Consumer         not inherited                   True   \n",
      "4                    Consumer         not inherited                   True   \n",
      "...                       ...                   ...                    ...   \n",
      "2609  Non-consumer industrial         not inherited                   True   \n",
      "2610                 Consumer         not inherited                   True   \n",
      "2611              Real Estate         not inherited                   True   \n",
      "2612        Mining and metals         not inherited                   True   \n",
      "2613       Technology-Medical         not inherited                   True   \n",
      "\n",
      "     wealth.how.was political  \n",
      "0                        True  \n",
      "1                        True  \n",
      "2                        True  \n",
      "3                        True  \n",
      "4                        True  \n",
      "...                       ...  \n",
      "2609                     True  \n",
      "2610                     True  \n",
      "2611                     True  \n",
      "2612                     True  \n",
      "2613                     True  \n",
      "\n",
      "[2614 rows x 22 columns]\n"
     ]
    }
   ],
   "source": [
    "# print(df)"
   ]
  },
  {
   "cell_type": "code",
   "execution_count": 19,
   "id": "c6961903-8c07-46f2-bed3-c6962bc81af1",
   "metadata": {},
   "outputs": [
    {
     "name": "stdout",
     "output_type": "stream",
     "text": [
      "Top Billionaries combine for  9232.500000000038 billion dollars.\n"
     ]
    }
   ],
   "source": [
    "# mathematical operation\n",
    "total_wealth = sum(df[\"wealth.worth in billions\"])\n",
    "print(\"Top Billionaries combine for \", total_wealth, \"billion dollars.\")\n",
    "# prints total wealth of list billionares"
   ]
  },
  {
   "cell_type": "code",
   "execution_count": 42,
   "id": "e474bfb4-98d4-44f6-b99d-fe1ad7c9030b",
   "metadata": {},
   "outputs": [
    {
     "name": "stdout",
     "output_type": "stream",
     "text": [
      "None has wealth that was without politics.\n"
     ]
    }
   ],
   "source": [
    "# conditional expression\n",
    "if df[\"wealth.how.was political\"].any() == False:\n",
    "    print(\"There are some that achieved wealth without politics.\")\n",
    "else:\n",
    "    print(\"None has wealth that was without politics.\")\n",
    "# prints if any of them achieved wealth with/without politics"
   ]
  },
  {
   "cell_type": "code",
   "execution_count": 58,
   "id": "63836342-fe95-4f14-af24-3e74e887f178",
   "metadata": {},
   "outputs": [
    {
     "name": "stdout",
     "output_type": "stream",
     "text": [
      "40\n",
      "45\n",
      "58\n",
      "65\n",
      "70\n",
      "74\n",
      "0\n",
      "48\n",
      "77\n"
     ]
    }
   ],
   "source": [
    "# for loop\n",
    "for age in df[\"demographics.age\"][0:9]:\n",
    "    print(age) \n",
    "    # prints each age of top 10 people\n"
   ]
  },
  {
   "cell_type": "code",
   "execution_count": 73,
   "id": "e3c8a4ca-e497-4aa0-b8cc-5a5230b71ad5",
   "metadata": {},
   "outputs": [
    {
     "name": "stdout",
     "output_type": "stream",
     "text": [
      "Ratio of trues in the col 'wealth.how.from emerging': 1.0\n"
     ]
    }
   ],
   "source": [
    "# function (both a new function definition and an execution of that function)\n",
    "def ratioOfCol(col):\n",
    "    # determines the ratio of true of a booleon col\n",
    "    return(sum(col) / len(col))\n",
    "print(\"Ratio of trues in the col 'wealth.how.from emerging':\", ratioOfCol(df[\"wealth.how.from emerging\"]))\n",
    "# prints ratio of trues in the col"
   ]
  },
  {
   "cell_type": "code",
   "execution_count": 69,
   "id": "3d325597-8e2a-4cae-88aa-63703745452f",
   "metadata": {},
   "outputs": [
    {
     "data": {
      "text/plain": [
       "2614"
      ]
     },
     "execution_count": 69,
     "metadata": {},
     "output_type": "execute_result"
    }
   ],
   "source": [
    "# module import and use of the module somewhere in the code\n",
    "# see import pandas df"
   ]
  }
 ],
 "metadata": {
  "kernelspec": {
   "display_name": "Python 3 (ipykernel)",
   "language": "python",
   "name": "python3"
  },
  "language_info": {
   "codemirror_mode": {
    "name": "ipython",
    "version": 3
   },
   "file_extension": ".py",
   "mimetype": "text/x-python",
   "name": "python",
   "nbconvert_exporter": "python",
   "pygments_lexer": "ipython3",
   "version": "3.9.6"
  }
 },
 "nbformat": 4,
 "nbformat_minor": 5
}
